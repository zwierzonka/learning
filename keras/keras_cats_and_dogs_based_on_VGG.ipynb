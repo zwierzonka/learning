{
 "cells": [
  {
   "cell_type": "code",
   "execution_count": null,
   "metadata": {},
   "outputs": [],
   "source": [
    "%reload_ext autoreload\n",
    "%autoreload 2\n",
    "%matplotlib inline"
   ]
  },
  {
   "cell_type": "code",
   "execution_count": null,
   "metadata": {},
   "outputs": [],
   "source": [
    "import numpy as np\n",
    "from PIL import Image\n",
    "from keras.preprocessing.image import ImageDataGenerator\n",
    "from keras.preprocessing import image\n",
    "from keras.layers import Dropout, Flatten, Dense, GlobalAveragePooling2D, Conv2D, BatchNormalization, MaxPooling2D, Conv2D\n",
    "from keras.applications import ResNet50\n",
    "from keras.models import Model, Sequential\n",
    "from keras import backend as K\n",
    "from keras.applications.resnet50 import preprocess_input, decode_predictions\n",
    "from keras.applications.vgg16 import VGG16, preprocess_input as vgg16_preprocess_input, decode_predictions as vgg16_decode_predictions\n",
    "from keras.optimizers import SGD, RMSprop, Adam"
   ]
  },
  {
   "cell_type": "code",
   "execution_count": null,
   "metadata": {},
   "outputs": [],
   "source": [
    "opt = RMSprop(lr=0.001, rho=0.7)\n",
    "for layer in layers: layer.trainable=False\n",
    "model.compile(optimizer=opt, loss='categorical_crossentropy', metrics=['accuracy'])"
   ]
  },
  {
   "cell_type": "code",
   "execution_count": null,
   "metadata": {},
   "outputs": [],
   "source": [
    "data_dir = 'data/dogscats/'\n",
    "train_data_dir = f'{data_dir}train'\n",
    "valid_data_dir = f'{data_dir}valid'\n",
    "img_size = 224\n",
    "batch_size = 64\n",
    "\n",
    "train_datagen = ImageDataGenerator(\n",
    "    preprocessing_function = vgg16_preprocess_input,\n",
    "    rotation_range = 9,\n",
    "    zoom_range = 0.2,\n",
    "    shear_range = 0.2\n",
    ")\n",
    "\n",
    "valid_datagen = ImageDataGenerator(preprocessing_function = vgg16_preprocess_input )\n",
    "\n",
    "train_generator = train_datagen.flow_from_directory(\n",
    "    train_data_dir, \n",
    "    target_size=(img_size,img_size),\n",
    "    batch_size=batch_size,\n",
    "    class_mode='categorical'\n",
    ")\n",
    "\n",
    "valid_generator = valid_datagen.flow_from_directory(\n",
    "    valid_data_dir, \n",
    "    target_size=(img_size,img_size),\n",
    "    batch_size=batch_size,\n",
    "    class_mode='categorical'\n",
    ")"
   ]
  },
  {
   "cell_type": "code",
   "execution_count": null,
   "metadata": {},
   "outputs": [],
   "source": [
    "model.fit_generator(\n",
    "    generator=train_generator,\n",
    "    epochs=2,\n",
    "    steps_per_epoch=train_generator.n // batch_size,\n",
    "    workers = 8,\n",
    "    validation_data=valid_generator,\n",
    "    validation_steps=valid_generator.n // batch_size\n",
    ")"
   ]
  },
  {
   "cell_type": "code",
   "execution_count": null,
   "metadata": {},
   "outputs": [],
   "source": [
    "base_model = VGG16(include_top=True, weights='imagenet')"
   ]
  },
  {
   "cell_type": "code",
   "execution_count": null,
   "metadata": {},
   "outputs": [],
   "source": [
    "base_model.summary()"
   ]
  },
  {
   "cell_type": "code",
   "execution_count": null,
   "metadata": {},
   "outputs": [],
   "source": [
    "layers = base_model.layers\n",
    "last_conv_id = [index for index, layer in enumerate(layers) \n",
    "                if isinstance(layer, Conv2D)][-1]\n",
    "conv_layers = layers[:last_conv_id+1]\n",
    "fc_layers = layers[last_conv_id+1:]"
   ]
  },
  {
   "cell_type": "code",
   "execution_count": null,
   "metadata": {},
   "outputs": [],
   "source": [
    "model = Sequential(conv_layers)"
   ]
  },
  {
   "cell_type": "code",
   "execution_count": null,
   "metadata": {},
   "outputs": [],
   "source": [
    "def copy_weights(source_layers, target_layers):\n",
    "    source_dense_ids = [idx for idx, layer in enumerate(source_layers)\n",
    "                       if isinstance(layer, Dense)]\n",
    "    target_dense_ids = [idx for idx, layer in enumerate(target_layers)\n",
    "                       if isinstance(layer, Dense)]\n",
    "    \n",
    "    for i, idx in enumerate(source_dense_ids):\n",
    "        target_layers[target_dense_ids[i]].set_weights(source_layers[idx].get_weights())\n",
    "\n",
    "def get_top_layers(dropout, input_shape, fc_layers):\n",
    "    top_model = Sequential([\n",
    "        MaxPooling2D(input_shape=input_shape),\n",
    "        Flatten(),\n",
    "        Dense(4096, activation='relu'),\n",
    "        BatchNormalization(),\n",
    "        Dropout(dropout),\n",
    "        Dense(4096, activation='relu'),\n",
    "        BatchNormalization(),\n",
    "        Dropout(dropout),\n",
    "        Dense(2, activation='softmax')\n",
    "    ])\n",
    "    copy_weights(fc_layers, top_model.layers)\n",
    "    return top_model"
   ]
  },
  {
   "cell_type": "code",
   "execution_count": null,
   "metadata": {
    "scrolled": true
   },
   "outputs": [],
   "source": [
    "top_model = get_top_layers(0.6, conv_layers[-1].output_shape[1:], fc_layers)"
   ]
  },
  {
   "cell_type": "code",
   "execution_count": null,
   "metadata": {},
   "outputs": [],
   "source": [
    "for l in model.layers: l.trainable = False\n",
    "for l in top_model.layers: model.add(l)\n",
    "model.summary()"
   ]
  },
  {
   "cell_type": "code",
   "execution_count": null,
   "metadata": {},
   "outputs": [],
   "source": [
    "model.compile(optimizer=opt, loss='categorical_crossentropy', metrics=['accuracy'])"
   ]
  },
  {
   "cell_type": "code",
   "execution_count": null,
   "metadata": {},
   "outputs": [],
   "source": [
    "model.fit_generator(train_generator, epochs=3, steps_per_epoch=train_generator.n // batch_size,\n",
    "                    workers = 8, validation_data=valid_generator, validation_steps=valid_generator.n // batch_size)"
   ]
  },
  {
   "cell_type": "code",
   "execution_count": null,
   "metadata": {},
   "outputs": [],
   "source": [
    "model.fit_generator(train_generator, epochs=3, steps_per_epoch=train_generator.n // batch_size,\n",
    "                    workers = 8, validation_data=valid_generator, validation_steps=valid_generator.n // batch_size)"
   ]
  },
  {
   "cell_type": "code",
   "execution_count": null,
   "metadata": {},
   "outputs": [],
   "source": [
    "model.compile(optimizer=Adam(), loss='categorical_crossentropy', metrics=['accuracy'])"
   ]
  },
  {
   "cell_type": "code",
   "execution_count": null,
   "metadata": {},
   "outputs": [],
   "source": [
    "model.fit_generator(train_generator, epochs=8, steps_per_epoch=train_generator.n // batch_size,\n",
    "                    workers = 8, validation_data=valid_generator, validation_steps=valid_generator.n // batch_size)"
   ]
  }
 ],
 "metadata": {
  "kernelspec": {
   "display_name": "Environment (conda_tensorflow_p36)",
   "language": "python",
   "name": "conda_tensorflow_p36"
  },
  "language_info": {
   "codemirror_mode": {
    "name": "ipython",
    "version": 3
   },
   "file_extension": ".py",
   "mimetype": "text/x-python",
   "name": "python",
   "nbconvert_exporter": "python",
   "pygments_lexer": "ipython3",
   "version": "3.6.4"
  }
 },
 "nbformat": 4,
 "nbformat_minor": 2
}
