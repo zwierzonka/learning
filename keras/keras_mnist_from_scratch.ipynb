{
 "cells": [
  {
   "cell_type": "code",
   "execution_count": 5,
   "metadata": {},
   "outputs": [],
   "source": [
    "%reload_ext autoreload\n",
    "%autoreload 2\n",
    "%matplotlib inline"
   ]
  },
  {
   "cell_type": "code",
   "execution_count": 57,
   "metadata": {},
   "outputs": [],
   "source": [
    "import numpy as np\n",
    "from PIL import Image\n",
    "from keras.preprocessing.image import ImageDataGenerator\n",
    "from keras.preprocessing import image\n",
    "from keras.layers import Dropout, Flatten, Dense, GlobalAveragePooling2D, Conv2D, BatchNormalization, MaxPooling2D, Conv2D\n",
    "from keras.layers import Lambda\n",
    "from keras.engine.topology import InputLayer\n",
    "from keras.applications import ResNet50\n",
    "from keras.models import Model, Sequential\n",
    "from keras import backend as K\n",
    "from keras.applications.resnet50 import preprocess_input, decode_predictions\n",
    "from keras.applications.vgg16 import VGG16, preprocess_input as vgg16_preprocess_input, decode_predictions as vgg16_decode_predictions\n",
    "from keras.optimizers import SGD, RMSprop, Adam\n",
    "from keras.utils import np_utils"
   ]
  },
  {
   "cell_type": "markdown",
   "metadata": {},
   "source": [
    "## ============== Net From Scratch For MNIST =============="
   ]
  },
  {
   "cell_type": "markdown",
   "metadata": {},
   "source": [
    "### Data Preparation"
   ]
  },
  {
   "cell_type": "code",
   "execution_count": 1,
   "metadata": {},
   "outputs": [],
   "source": [
    "from keras.datasets import mnist"
   ]
  },
  {
   "cell_type": "code",
   "execution_count": 75,
   "metadata": {},
   "outputs": [],
   "source": [
    "(x_train, y_train), (x_test, y_test) = mnist.load_data()"
   ]
  },
  {
   "cell_type": "code",
   "execution_count": 76,
   "metadata": {},
   "outputs": [],
   "source": [
    "## add one color channel - we are in grayscale\n",
    "x_train = np.expand_dims(x_train, -1)\n",
    "x_test = np.expand_dims(x_test, -1)"
   ]
  },
  {
   "cell_type": "code",
   "execution_count": 77,
   "metadata": {},
   "outputs": [],
   "source": [
    "## one hot encode output\n",
    "y_train = np_utils.to_categorical(y_train)\n",
    "y_test = np_utils.to_categorical(y_test)"
   ]
  },
  {
   "cell_type": "code",
   "execution_count": 78,
   "metadata": {},
   "outputs": [],
   "source": [
    "## normalize input ??\n",
    "px_mean = x_train.mean().astype('float32')\n",
    "px_std = x_train.std().astype('float32')"
   ]
  },
  {
   "cell_type": "code",
   "execution_count": 56,
   "metadata": {},
   "outputs": [],
   "source": [
    "def pixel_normalize(x): return (x-px_mean) / px_std"
   ]
  },
  {
   "cell_type": "markdown",
   "metadata": {},
   "source": [
    "### Linear Model"
   ]
  },
  {
   "cell_type": "code",
   "execution_count": 88,
   "metadata": {},
   "outputs": [
    {
     "name": "stdout",
     "output_type": "stream",
     "text": [
      "_________________________________________________________________\n",
      "Layer (type)                 Output Shape              Param #   \n",
      "=================================================================\n",
      "input_18 (InputLayer)        (None, 28, 28, 1)         0         \n",
      "_________________________________________________________________\n",
      "lambda_7 (Lambda)            (None, 28, 28, 1)         0         \n",
      "_________________________________________________________________\n",
      "flatten_10 (Flatten)         (None, 784)               0         \n",
      "_________________________________________________________________\n",
      "dense_23 (Dense)             (None, 10)                7850      \n",
      "=================================================================\n",
      "Total params: 7,850\n",
      "Trainable params: 7,850\n",
      "Non-trainable params: 0\n",
      "_________________________________________________________________\n"
     ]
    }
   ],
   "source": [
    "layers = [\n",
    "    InputLayer(input_shape=(28,28,1)),\n",
    "    Lambda(pixel_normalize),\n",
    "    Flatten(),\n",
    "    Dense(10, activation='softmax')\n",
    "]\n",
    "\n",
    "model = Sequential(layers)\n",
    "model.summary()\n",
    "model.compile(optimizer=Adam(), loss='categorical_crossentropy', metrics=['accuracy'])"
   ]
  },
  {
   "cell_type": "code",
   "execution_count": 80,
   "metadata": {},
   "outputs": [],
   "source": [
    "gen = ImageDataGenerator()"
   ]
  },
  {
   "cell_type": "code",
   "execution_count": 81,
   "metadata": {},
   "outputs": [],
   "source": [
    "train_gen = gen.flow(x_train, y_train, batch_size=64)\n",
    "test_gen = gen.flow(x_test, y_test, batch_size=64)"
   ]
  },
  {
   "cell_type": "code",
   "execution_count": 89,
   "metadata": {},
   "outputs": [
    {
     "name": "stdout",
     "output_type": "stream",
     "text": [
      "Epoch 1/1\n",
      "937/937 [==============================] - 4s 4ms/step - loss: 0.4305 - acc: 0.8714 - val_loss: 0.3003 - val_acc: 0.9143\n"
     ]
    },
    {
     "data": {
      "text/plain": [
       "<keras.callbacks.History at 0x7fc4805d6b38>"
      ]
     },
     "execution_count": 89,
     "metadata": {},
     "output_type": "execute_result"
    }
   ],
   "source": [
    "model.fit_generator(train_gen, train_gen.n // 64, epochs=1, \n",
    "                   validation_data=test_gen, validation_steps=test_gen.n // 64, workers = 4)"
   ]
  },
  {
   "cell_type": "code",
   "execution_count": 91,
   "metadata": {},
   "outputs": [
    {
     "name": "stdout",
     "output_type": "stream",
     "text": [
      "Epoch 1/4\n",
      "937/937 [==============================] - 4s 4ms/step - loss: 0.2994 - acc: 0.9151 - val_loss: 0.2912 - val_acc: 0.9179\n",
      "Epoch 2/4\n",
      "937/937 [==============================] - 4s 4ms/step - loss: 0.2848 - acc: 0.9199 - val_loss: 0.2812 - val_acc: 0.9198\n",
      "Epoch 3/4\n",
      "937/937 [==============================] - 4s 4ms/step - loss: 0.2788 - acc: 0.9213 - val_loss: 0.2746 - val_acc: 0.9249\n",
      "Epoch 4/4\n",
      "937/937 [==============================] - 4s 4ms/step - loss: 0.2725 - acc: 0.9246 - val_loss: 0.2730 - val_acc: 0.9250\n"
     ]
    },
    {
     "data": {
      "text/plain": [
       "<keras.callbacks.History at 0x7fc48010bc50>"
      ]
     },
     "execution_count": 91,
     "metadata": {},
     "output_type": "execute_result"
    }
   ],
   "source": [
    "model.optimizer.lr = 0.1\n",
    "model.fit_generator(train_gen, train_gen.n // 64, epochs=4, \n",
    "                   validation_data=test_gen, validation_steps=test_gen.n // 64, workers = 4)"
   ]
  },
  {
   "cell_type": "markdown",
   "metadata": {},
   "source": [
    "### Single Dense Layer"
   ]
  },
  {
   "cell_type": "code",
   "execution_count": 94,
   "metadata": {},
   "outputs": [
    {
     "name": "stdout",
     "output_type": "stream",
     "text": [
      "_________________________________________________________________\n",
      "Layer (type)                 Output Shape              Param #   \n",
      "=================================================================\n",
      "input_20 (InputLayer)        (None, 28, 28, 1)         0         \n",
      "_________________________________________________________________\n",
      "lambda_9 (Lambda)            (None, 28, 28, 1)         0         \n",
      "_________________________________________________________________\n",
      "flatten_12 (Flatten)         (None, 784)               0         \n",
      "_________________________________________________________________\n",
      "dense_26 (Dense)             (None, 784)               615440    \n",
      "_________________________________________________________________\n",
      "dense_27 (Dense)             (None, 10)                7850      \n",
      "=================================================================\n",
      "Total params: 623,290\n",
      "Trainable params: 623,290\n",
      "Non-trainable params: 0\n",
      "_________________________________________________________________\n"
     ]
    }
   ],
   "source": [
    "layers = [\n",
    "    InputLayer(input_shape=(28,28,1)),\n",
    "    Lambda(pixel_normalize),\n",
    "    Flatten(),\n",
    "    Dense(28*28, activation='relu'),\n",
    "    Dense(10, activation='softmax')\n",
    "]\n",
    "model = Sequential(layers)\n",
    "model.summary()\n",
    "model.compile(optimizer=Adam(), loss='categorical_crossentropy', metrics=['accuracy'])"
   ]
  },
  {
   "cell_type": "code",
   "execution_count": 95,
   "metadata": {},
   "outputs": [
    {
     "name": "stdout",
     "output_type": "stream",
     "text": [
      "Epoch 1/1\n",
      "937/937 [==============================] - 5s 5ms/step - loss: 0.1911 - acc: 0.9419 - val_loss: 0.1345 - val_acc: 0.9589\n"
     ]
    },
    {
     "data": {
      "text/plain": [
       "<keras.callbacks.History at 0x7fc481874278>"
      ]
     },
     "execution_count": 95,
     "metadata": {},
     "output_type": "execute_result"
    }
   ],
   "source": [
    "model.fit_generator(train_gen, train_gen.n // 64, epochs=1, \n",
    "                   validation_data=test_gen, validation_steps=test_gen.n // 64, workers = 4)"
   ]
  },
  {
   "cell_type": "code",
   "execution_count": 96,
   "metadata": {},
   "outputs": [
    {
     "name": "stdout",
     "output_type": "stream",
     "text": [
      "Epoch 1/4\n",
      "937/937 [==============================] - 5s 5ms/step - loss: 0.0789 - acc: 0.9747 - val_loss: 0.0913 - val_acc: 0.9723\n",
      "Epoch 2/4\n",
      "937/937 [==============================] - 5s 5ms/step - loss: 0.0555 - acc: 0.9824 - val_loss: 0.0859 - val_acc: 0.9743\n",
      "Epoch 3/4\n",
      "937/937 [==============================] - 5s 5ms/step - loss: 0.0412 - acc: 0.9867 - val_loss: 0.1008 - val_acc: 0.9692\n",
      "Epoch 4/4\n",
      "937/937 [==============================] - 5s 5ms/step - loss: 0.0351 - acc: 0.9883 - val_loss: 0.0921 - val_acc: 0.9734\n"
     ]
    },
    {
     "data": {
      "text/plain": [
       "<keras.callbacks.History at 0x7fc48010beb8>"
      ]
     },
     "execution_count": 96,
     "metadata": {},
     "output_type": "execute_result"
    }
   ],
   "source": [
    "model.optimizer.lr = 0.1\n",
    "model.fit_generator(train_gen, train_gen.n // 64, epochs=4, \n",
    "                   validation_data=test_gen, validation_steps=test_gen.n // 64, workers = 4)"
   ]
  },
  {
   "cell_type": "code",
   "execution_count": 97,
   "metadata": {},
   "outputs": [
    {
     "name": "stdout",
     "output_type": "stream",
     "text": [
      "Epoch 1/4\n",
      "937/937 [==============================] - 5s 5ms/step - loss: 0.0299 - acc: 0.9900 - val_loss: 0.0795 - val_acc: 0.9796\n",
      "Epoch 2/4\n",
      "937/937 [==============================] - 5s 5ms/step - loss: 0.0250 - acc: 0.9917 - val_loss: 0.0841 - val_acc: 0.9781\n",
      "Epoch 3/4\n",
      "937/937 [==============================] - 5s 5ms/step - loss: 0.0216 - acc: 0.9929 - val_loss: 0.0862 - val_acc: 0.9789\n",
      "Epoch 4/4\n",
      "937/937 [==============================] - 5s 5ms/step - loss: 0.0228 - acc: 0.9927 - val_loss: 0.0921 - val_acc: 0.9807\n"
     ]
    },
    {
     "data": {
      "text/plain": [
       "<keras.callbacks.History at 0x7fc4818c4898>"
      ]
     },
     "execution_count": 97,
     "metadata": {},
     "output_type": "execute_result"
    }
   ],
   "source": [
    "model.optimizer.lr = 0.01\n",
    "model.fit_generator(train_gen, train_gen.n // 64, epochs=4, \n",
    "                   validation_data=test_gen, validation_steps=test_gen.n // 64, workers = 4)"
   ]
  },
  {
   "cell_type": "markdown",
   "metadata": {},
   "source": [
    "### Convolutions"
   ]
  },
  {
   "cell_type": "code",
   "execution_count": 108,
   "metadata": {},
   "outputs": [],
   "source": [
    "Dropout?"
   ]
  },
  {
   "cell_type": "code",
   "execution_count": 127,
   "metadata": {},
   "outputs": [
    {
     "name": "stdout",
     "output_type": "stream",
     "text": [
      "_________________________________________________________________\n",
      "Layer (type)                 Output Shape              Param #   \n",
      "=================================================================\n",
      "input_29 (InputLayer)        (None, 28, 28, 1)         0         \n",
      "_________________________________________________________________\n",
      "lambda_18 (Lambda)           (None, 28, 28, 1)         0         \n",
      "_________________________________________________________________\n",
      "conv2d_34 (Conv2D)           (None, 26, 26, 32)        320       \n",
      "_________________________________________________________________\n",
      "batch_normalization_35 (Batc (None, 26, 26, 32)        128       \n",
      "_________________________________________________________________\n",
      "conv2d_35 (Conv2D)           (None, 24, 24, 32)        9248      \n",
      "_________________________________________________________________\n",
      "max_pooling2d_15 (MaxPooling (None, 12, 12, 32)        0         \n",
      "_________________________________________________________________\n",
      "batch_normalization_36 (Batc (None, 12, 12, 32)        128       \n",
      "_________________________________________________________________\n",
      "conv2d_36 (Conv2D)           (None, 10, 10, 64)        18496     \n",
      "_________________________________________________________________\n",
      "batch_normalization_37 (Batc (None, 10, 10, 64)        256       \n",
      "_________________________________________________________________\n",
      "conv2d_37 (Conv2D)           (None, 8, 8, 64)          36928     \n",
      "_________________________________________________________________\n",
      "max_pooling2d_16 (MaxPooling (None, 4, 4, 64)          0         \n",
      "_________________________________________________________________\n",
      "flatten_21 (Flatten)         (None, 1024)              0         \n",
      "_________________________________________________________________\n",
      "batch_normalization_38 (Batc (None, 1024)              4096      \n",
      "_________________________________________________________________\n",
      "dropout_8 (Dropout)          (None, 1024)              0         \n",
      "_________________________________________________________________\n",
      "dense_42 (Dense)             (None, 512)               524800    \n",
      "_________________________________________________________________\n",
      "batch_normalization_39 (Batc (None, 512)               2048      \n",
      "_________________________________________________________________\n",
      "dropout_9 (Dropout)          (None, 512)               0         \n",
      "_________________________________________________________________\n",
      "dense_43 (Dense)             (None, 10)                5130      \n",
      "=================================================================\n",
      "Total params: 601,578\n",
      "Trainable params: 598,250\n",
      "Non-trainable params: 3,328\n",
      "_________________________________________________________________\n"
     ]
    }
   ],
   "source": [
    "def get_convolution_model(dropout=0.3):\n",
    "    layers = [\n",
    "        InputLayer(input_shape=(28,28,1)),\n",
    "        Lambda(pixel_normalize),\n",
    "        Conv2D(32,3,activation='relu'),\n",
    "        BatchNormalization(),\n",
    "        Conv2D(32,3,activation='relu'),\n",
    "        MaxPooling2D(),\n",
    "        BatchNormalization(),\n",
    "        Conv2D(64,3,activation='relu'),\n",
    "        BatchNormalization(),\n",
    "        Conv2D(64,3,activation='relu'),\n",
    "        MaxPooling2D(),\n",
    "        Flatten(),\n",
    "        BatchNormalization(),\n",
    "        Dropout(rate=dropout-0.2),\n",
    "        Dense(512, activation='relu'),\n",
    "        BatchNormalization(),\n",
    "        Dropout(rate=dropout),\n",
    "        Dense(10, activation='softmax')\n",
    "    ]\n",
    "    model = Sequential(layers)\n",
    "    model.summary()\n",
    "    return model\n",
    "\n",
    "model = get_convolution_model(dropout=0.5)\n",
    "model.compile(optimizer=Adam(), loss='categorical_crossentropy', metrics=['accuracy'])"
   ]
  },
  {
   "cell_type": "code",
   "execution_count": 128,
   "metadata": {},
   "outputs": [
    {
     "name": "stdout",
     "output_type": "stream",
     "text": [
      "Epoch 1/1\n",
      "937/937 [==============================] - 26s 28ms/step - loss: 0.1346 - acc: 0.9602 - val_loss: 0.0319 - val_acc: 0.9891\n"
     ]
    },
    {
     "data": {
      "text/plain": [
       "<keras.callbacks.History at 0x7fc479008978>"
      ]
     },
     "execution_count": 128,
     "metadata": {},
     "output_type": "execute_result"
    }
   ],
   "source": [
    "model.fit_generator(train_gen, train_gen.n // 64, epochs=1, \n",
    "                   validation_data=test_gen, validation_steps=test_gen.n // 64, workers = 4)"
   ]
  },
  {
   "cell_type": "code",
   "execution_count": 129,
   "metadata": {},
   "outputs": [
    {
     "name": "stdout",
     "output_type": "stream",
     "text": [
      "Epoch 1/4\n",
      "937/937 [==============================] - 25s 26ms/step - loss: 0.0514 - acc: 0.9841 - val_loss: 0.0315 - val_acc: 0.9890\n",
      "Epoch 2/4\n",
      "937/937 [==============================] - 21s 22ms/step - loss: 0.0451 - acc: 0.9865 - val_loss: 0.0246 - val_acc: 0.9917\n",
      "Epoch 3/4\n",
      "937/937 [==============================] - 21s 22ms/step - loss: 0.0384 - acc: 0.9878 - val_loss: 0.0408 - val_acc: 0.9872\n",
      "Epoch 4/4\n",
      "937/937 [==============================] - 21s 22ms/step - loss: 0.0342 - acc: 0.9896 - val_loss: 0.0235 - val_acc: 0.9928\n"
     ]
    },
    {
     "data": {
      "text/plain": [
       "<keras.callbacks.History at 0x7fc478733d30>"
      ]
     },
     "execution_count": 129,
     "metadata": {},
     "output_type": "execute_result"
    }
   ],
   "source": [
    "model.optimizer.lr = 0.1\n",
    "model.fit_generator(train_gen, train_gen.n // 64, epochs=4, \n",
    "                   validation_data=test_gen, validation_steps=test_gen.n // 64, workers = 4)"
   ]
  },
  {
   "cell_type": "code",
   "execution_count": 130,
   "metadata": {},
   "outputs": [
    {
     "name": "stdout",
     "output_type": "stream",
     "text": [
      "Epoch 1/4\n",
      "937/937 [==============================] - 24s 26ms/step - loss: 0.0308 - acc: 0.9906 - val_loss: 0.0191 - val_acc: 0.9945\n",
      "Epoch 2/4\n",
      "937/937 [==============================] - 21s 23ms/step - loss: 0.0273 - acc: 0.9914 - val_loss: 0.0225 - val_acc: 0.9931\n",
      "Epoch 3/4\n",
      "937/937 [==============================] - 21s 22ms/step - loss: 0.0265 - acc: 0.9914 - val_loss: 0.0262 - val_acc: 0.9921\n",
      "Epoch 4/4\n",
      "937/937 [==============================] - 21s 22ms/step - loss: 0.0247 - acc: 0.9922 - val_loss: 0.0177 - val_acc: 0.9947\n"
     ]
    },
    {
     "data": {
      "text/plain": [
       "<keras.callbacks.History at 0x7fc478733cf8>"
      ]
     },
     "execution_count": 130,
     "metadata": {},
     "output_type": "execute_result"
    }
   ],
   "source": [
    "model.optimizer.lr = 0.01\n",
    "model.fit_generator(train_gen, train_gen.n // 64, epochs=4, \n",
    "                   validation_data=test_gen, validation_steps=test_gen.n // 64, workers = 4)"
   ]
  },
  {
   "cell_type": "code",
   "execution_count": 131,
   "metadata": {},
   "outputs": [
    {
     "name": "stdout",
     "output_type": "stream",
     "text": [
      "Epoch 1/4\n",
      "937/937 [==============================] - 24s 26ms/step - loss: 0.0207 - acc: 0.9931 - val_loss: 0.0200 - val_acc: 0.9932\n",
      "Epoch 2/4\n",
      "937/937 [==============================] - 21s 22ms/step - loss: 0.0205 - acc: 0.9935 - val_loss: 0.0233 - val_acc: 0.9923\n",
      "Epoch 3/4\n",
      "937/937 [==============================] - 21s 22ms/step - loss: 0.0194 - acc: 0.9937 - val_loss: 0.0223 - val_acc: 0.9937\n",
      "Epoch 4/4\n",
      "937/937 [==============================] - 21s 22ms/step - loss: 0.0183 - acc: 0.9944 - val_loss: 0.0207 - val_acc: 0.9932\n"
     ]
    },
    {
     "data": {
      "text/plain": [
       "<keras.callbacks.History at 0x7fc480e51c88>"
      ]
     },
     "execution_count": 131,
     "metadata": {},
     "output_type": "execute_result"
    }
   ],
   "source": [
    "model.optimizer.lr = 0.001\n",
    "model.fit_generator(train_gen, train_gen.n // 64, epochs=4, \n",
    "                   validation_data=test_gen, validation_steps=test_gen.n // 64, workers = 4)"
   ]
  },
  {
   "cell_type": "code",
   "execution_count": 132,
   "metadata": {},
   "outputs": [
    {
     "name": "stdout",
     "output_type": "stream",
     "text": [
      "Epoch 1/2\n",
      "937/937 [==============================] - 24s 25ms/step - loss: 0.0139 - acc: 0.9955 - val_loss: 0.0290 - val_acc: 0.9926\n",
      "Epoch 2/2\n",
      "937/937 [==============================] - 21s 22ms/step - loss: 0.0162 - acc: 0.9948 - val_loss: 0.0186 - val_acc: 0.9947\n"
     ]
    },
    {
     "data": {
      "text/plain": [
       "<keras.callbacks.History at 0x7fc474534860>"
      ]
     },
     "execution_count": 132,
     "metadata": {},
     "output_type": "execute_result"
    }
   ],
   "source": [
    "model.optimizer.lr = 0.0005\n",
    "model.fit_generator(train_gen, train_gen.n // 64, epochs=2, \n",
    "                   validation_data=test_gen, validation_steps=test_gen.n // 64, workers = 4)"
   ]
  },
  {
   "cell_type": "code",
   "execution_count": 133,
   "metadata": {},
   "outputs": [],
   "source": [
    "### Teraz bym zrobil ensamble"
   ]
  }
 ],
 "metadata": {
  "kernelspec": {
   "display_name": "Environment (conda_tensorflow_p36)",
   "language": "python",
   "name": "conda_tensorflow_p36"
  },
  "language_info": {
   "codemirror_mode": {
    "name": "ipython",
    "version": 3
   },
   "file_extension": ".py",
   "mimetype": "text/x-python",
   "name": "python",
   "nbconvert_exporter": "python",
   "pygments_lexer": "ipython3",
   "version": "3.6.4"
  }
 },
 "nbformat": 4,
 "nbformat_minor": 2
}
